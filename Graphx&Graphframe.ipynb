{
  "cells": [
    {
      "cell_type": "code",
      "execution_count": null,
      "metadata": {
        "colab": {
          "base_uri": "https://localhost:8080/"
        },
        "id": "OuC1_91yPHbh",
        "outputId": "efbb4021-c646-4b20-a515-668762bb8caa"
      },
      "outputs": [
        {
          "output_type": "stream",
          "name": "stdout",
          "text": [
            "Looking in indexes: https://pypi.org/simple, https://us-python.pkg.dev/colab-wheels/public/simple/\n",
            "Collecting pyspark\n",
            "  Downloading pyspark-3.4.0.tar.gz (310.8 MB)\n",
            "\u001b[2K     \u001b[90m━━━━━━━━━━━━━━━━━━━━━━━━━━━━━━━━━━━━━━━\u001b[0m \u001b[32m310.8/310.8 MB\u001b[0m \u001b[31m4.0 MB/s\u001b[0m eta \u001b[36m0:00:00\u001b[0m\n",
            "\u001b[?25h  Preparing metadata (setup.py) ... \u001b[?25l\u001b[?25hdone\n",
            "Requirement already satisfied: py4j==0.10.9.7 in /usr/local/lib/python3.10/dist-packages (from pyspark) (0.10.9.7)\n",
            "Building wheels for collected packages: pyspark\n",
            "  Building wheel for pyspark (setup.py) ... \u001b[?25l\u001b[?25hdone\n",
            "  Created wheel for pyspark: filename=pyspark-3.4.0-py2.py3-none-any.whl size=311317145 sha256=beedbbc5677a9165c8d42ffdd277de18eee92068200c2bba5a1d2c51674a226e\n",
            "  Stored in directory: /root/.cache/pip/wheels/7b/1b/4b/3363a1d04368e7ff0d408e57ff57966fcdf00583774e761327\n",
            "Successfully built pyspark\n",
            "Installing collected packages: pyspark\n",
            "Successfully installed pyspark-3.4.0\n"
          ]
        }
      ],
      "source": [
        "! pip install pyspark"
      ]
    },
    {
      "cell_type": "code",
      "execution_count": null,
      "metadata": {
        "colab": {
          "base_uri": "https://localhost:8080/"
        },
        "id": "i93-AClo9FNX",
        "outputId": "80538ef0-4137-46d3-8abd-5a9c9b6db8f3"
      },
      "outputs": [
        {
          "output_type": "stream",
          "name": "stdout",
          "text": [
            "3.4.0\n"
          ]
        }
      ],
      "source": [
        "import pyspark\n",
        "print(pyspark.__version__)"
      ]
    },
    {
      "cell_type": "code",
      "execution_count": null,
      "metadata": {
        "id": "FZiCFWsVPMq2"
      },
      "outputs": [],
      "source": [
        "#Ajouter le jar correspondant à votre version de spark :\n",
        "#(graphframes : https://spark-packages.org/package/graphframes/graphframes)\n",
        "from pyspark.sql import SparkSession\n",
        "spark = (SparkSession\n",
        "            .builder\n",
        "            .config('spark.jars.packages', 'graphframes:graphframes:0.8.2-spark3.2-s_2.12')\n",
        "            .appName(\"tp6\")\n",
        "            .getOrCreate()\n",
        ")"
      ]
    },
    {
      "cell_type": "markdown",
      "metadata": {
        "id": "v8g-C_d-AB6N"
      },
      "source": [
        "1)\tCréer un DataFrame pour chaque fichier."
      ]
    },
    {
      "cell_type": "code",
      "execution_count": null,
      "metadata": {
        "id": "u0iRjksDPfV9"
      },
      "outputs": [],
      "source": [
        "bikeStations = spark.read.option(\"header\",\"true\")\\\n",
        ".csv(\"/content/station_data.csv\")\n",
        "tripData = spark.read.option(\"header\",\"true\")\\\n",
        ".csv(\"/content/trip_data.csv\")"
      ]
    },
    {
      "cell_type": "code",
      "source": [
        "tripData"
      ],
      "metadata": {
        "colab": {
          "base_uri": "https://localhost:8080/"
        },
        "id": "yqNQyYeRNn9Z",
        "outputId": "fcbb1b93-4b2c-4da5-f690-465329a583c7"
      },
      "execution_count": null,
      "outputs": [
        {
          "output_type": "execute_result",
          "data": {
            "text/plain": [
              "DataFrame[Trip ID: string, Duration: string, Start Date: string, Start Station: string, Start Terminal: string, End Date: string, End Station: string, End Terminal: string, Bike #: string, Subscriber Type: string, Zip Code: string]"
            ]
          },
          "metadata": {},
          "execution_count": 5
        }
      ]
    },
    {
      "cell_type": "code",
      "source": [
        "from pyspark.sql.functions import col\n",
        "\n",
        "tripData = tripData.withColumn(\"Duration\", col(\"Duration\").cast(\"int\"))"
      ],
      "metadata": {
        "id": "_l0GQvCdNl3h"
      },
      "execution_count": null,
      "outputs": []
    },
    {
      "cell_type": "code",
      "source": [
        "tripData"
      ],
      "metadata": {
        "colab": {
          "base_uri": "https://localhost:8080/"
        },
        "id": "MjfADMESNo7C",
        "outputId": "8acadf8e-aa79-45bb-d237-462f1c53e761"
      },
      "execution_count": null,
      "outputs": [
        {
          "output_type": "execute_result",
          "data": {
            "text/plain": [
              "DataFrame[Trip ID: string, Duration: int, Start Date: string, Start Station: string, Start Terminal: string, End Date: string, End Station: string, End Terminal: string, Bike #: string, Subscriber Type: string, Zip Code: string]"
            ]
          },
          "metadata": {},
          "execution_count": 9
        }
      ]
    },
    {
      "cell_type": "markdown",
      "metadata": {
        "id": "eHSjz3DpD1up"
      },
      "source": [
        "2)\tDans la table des sommets (le DataFrame qui représente le fichier station_data.csv), renommer la colonne name en id."
      ]
    },
    {
      "cell_type": "markdown",
      "metadata": {
        "id": "mH8nkbSpEHrr"
      },
      "source": [
        "3)\tDans la table des arcs (le DataFrame qui représente le fichier trip_data.csv), renommer la colonne Start Station en src et la colonne End Station en dst."
      ]
    },
    {
      "cell_type": "code",
      "execution_count": null,
      "metadata": {
        "id": "LXC5Odn7SSz9"
      },
      "outputs": [],
      "source": [
        "stationVertices = bikeStations.withColumnRenamed(\"name\", \"id\").distinct()\n",
        "tripEdges = tripData\\\n",
        ".withColumnRenamed(\"Start Station\", \"src\")\\\n",
        ".withColumnRenamed(\"End Station\", \"dst\")"
      ]
    },
    {
      "cell_type": "markdown",
      "metadata": {
        "id": "KVEtKadAE50T"
      },
      "source": [
        "4)\tCréer un GraphFrame, qui représente notre graphe."
      ]
    },
    {
      "cell_type": "code",
      "execution_count": null,
      "metadata": {
        "colab": {
          "base_uri": "https://localhost:8080/"
        },
        "id": "a0DVTSvRSb4g",
        "outputId": "1a5ba3a9-9104-4647-b93e-63b6a8342bc0"
      },
      "outputs": [
        {
          "output_type": "stream",
          "name": "stderr",
          "text": [
            "/usr/local/lib/python3.10/dist-packages/pyspark/sql/dataframe.py:169: UserWarning: DataFrame.sql_ctx is an internal property, and will be removed in future releases. Use DataFrame.sparkSession instead.\n",
            "  warnings.warn(\n"
          ]
        }
      ],
      "source": [
        "from graphframes import GraphFrame\n",
        "stationGraph = GraphFrame(stationVertices, tripEdges)"
      ]
    },
    {
      "cell_type": "markdown",
      "metadata": {
        "id": "XhSKIKJPFVX1"
      },
      "source": [
        "# Interroger le graphe"
      ]
    },
    {
      "cell_type": "markdown",
      "metadata": {
        "id": "YBFUPBIxIlz2"
      },
      "source": [
        "5)\tRetourner le nombre de voyages effectués entre chaque source et destination triés par ordre décroissant (selon le nombre de voyages)."
      ]
    },
    {
      "cell_type": "code",
      "execution_count": null,
      "metadata": {
        "colab": {
          "base_uri": "https://localhost:8080/"
        },
        "id": "2xyDg4jv4b3R",
        "outputId": "2b8142ed-9414-49bc-85b0-e866c29f5561"
      },
      "outputs": [
        {
          "name": "stdout",
          "output_type": "stream",
          "text": [
            "+---------------------------------------+----------------------------------------+-----+\n",
            "|src                                    |dst                                     |count|\n",
            "+---------------------------------------+----------------------------------------+-----+\n",
            "|San Francisco Caltrain 2 (330 Townsend)|Townsend at 7th                         |4    |\n",
            "|5th at Howard                          |San Francisco Caltrain 2 (330 Townsend) |3    |\n",
            "|San Francisco Caltrain 2 (330 Townsend)|Powell Street BART                      |2    |\n",
            "|2nd at Townsend                        |Market at Sansome                       |2    |\n",
            "|Spear at Folsom                        |2nd at Townsend                         |2    |\n",
            "|Market at Sansome                      |Broadway St at Battery St               |2    |\n",
            "|Davis at Jackson                       |Embarcadero at Sansome                  |2    |\n",
            "|San Francisco Caltrain 2 (330 Townsend)|2nd at South Park                       |2    |\n",
            "|Steuart at Market                      |San Francisco Caltrain (Townsend at 4th)|2    |\n",
            "|Market at 4th                          |San Francisco Caltrain 2 (330 Townsend) |2    |\n",
            "+---------------------------------------+----------------------------------------+-----+\n",
            "only showing top 10 rows\n",
            "\n"
          ]
        }
      ],
      "source": [
        "from pyspark.sql.functions import desc\n",
        "stationGraph.edges.groupBy(\"src\", \"dst\")\\\n",
        ".count().orderBy(desc(\"count\"))\\\n",
        ".show(10, False)"
      ]
    },
    {
      "cell_type": "markdown",
      "metadata": {
        "id": "-y6q06SqLeqE"
      },
      "source": [
        "6)\tRetourner le nombre de voyages qui se commencent ou se terminent à partir de la station ‘Townsend at 7th’ triés par ordre décroissant (selon le nombre de voyages)."
      ]
    },
    {
      "cell_type": "code",
      "execution_count": null,
      "metadata": {
        "colab": {
          "base_uri": "https://localhost:8080/"
        },
        "id": "2CYB7iNnIh7I",
        "outputId": "f51bc194-d059-4dfd-b5ab-5cb8e0c0ae85"
      },
      "outputs": [
        {
          "name": "stdout",
          "output_type": "stream",
          "text": [
            "+--------------------+--------------------+-----+\n",
            "|                 src|                 dst|count|\n",
            "+--------------------+--------------------+-----+\n",
            "|San Francisco Cal...|     Townsend at 7th|    4|\n",
            "|       5th at Howard|     Townsend at 7th|    1|\n",
            "|     Townsend at 7th|     Spear at Folsom|    1|\n",
            "|     Townsend at 7th|Harry Bridges Pla...|    1|\n",
            "|     Spear at Folsom|     Townsend at 7th|    1|\n",
            "|       Howard at 2nd|     Townsend at 7th|    1|\n",
            "+--------------------+--------------------+-----+\n",
            "\n"
          ]
        }
      ],
      "source": [
        "stationGraph.edges\\\n",
        ".where(\"src = 'Townsend at 7th' OR dst = 'Townsend at 7th'\")\\\n",
        ".groupBy(\"src\", \"dst\").count()\\\n",
        ".orderBy(desc(\"count\"))\\\n",
        ".show(10)"
      ]
    },
    {
      "cell_type": "markdown",
      "metadata": {
        "id": "f82OZbY3PTYC"
      },
      "source": [
        "7) Retourner les sommets qui n'ont jamais été une destination d'un voyage qui commence à partir de 'Spear at Folsom'."
      ]
    },
    {
      "cell_type": "code",
      "source": [
        "# Requête avec la fonction subtract\n",
        "SpearFolsomDestinations = stationGraph \\\n",
        "    .edges \\\n",
        "    .where(\"src = 'Spear at Folsom'\") \\\n",
        "    .select(\"dst\") \\\n",
        "    .distinct()\n",
        "\n",
        "otherStations = stationGraph \\\n",
        "    .vertices \\\n",
        "    .select(\"id\") \\\n",
        "    .distinct() \\\n",
        "    .subtract(SpearFolsomDestinations)\n",
        "\n",
        "# Affichage des résultats\n",
        "otherStations.show(1000, False)"
      ],
      "metadata": {
        "colab": {
          "base_uri": "https://localhost:8080/"
        },
        "id": "pArn5n3J5yNy",
        "outputId": "72085ded-711b-484d-ba00-34796a133e24"
      },
      "execution_count": null,
      "outputs": [
        {
          "output_type": "stream",
          "name": "stdout",
          "text": [
            "+---------------------------------------------+\n",
            "|id                                           |\n",
            "+---------------------------------------------+\n",
            "|2nd at Folsom                                |\n",
            "|California Ave Caltrain Station              |\n",
            "|Washington at Kearney                        |\n",
            "|Powell at Post (Union Square)                |\n",
            "|Golden Gate at Polk                          |\n",
            "|Yerba Buena Center of the Arts (3rd @ Howard)|\n",
            "|Market at Sansome                            |\n",
            "|MLK Library                                  |\n",
            "|Spear at Folsom                              |\n",
            "|Japantown                                    |\n",
            "|Commercial at Montgomery                     |\n",
            "|Paseo de San Antonio                         |\n",
            "|San Salvador at 1st                          |\n",
            "|Rengstorff Avenue / California Street        |\n",
            "|Civic Center BART (7th at Market)            |\n",
            "|Ryland Park                                  |\n",
            "|San Jose Diridon Caltrain Station            |\n",
            "|San Jose Civic Center                        |\n",
            "|Post at Kearney                              |\n",
            "|Mezes Park                                   |\n",
            "|SJSU - San Salvador at 9th                   |\n",
            "|Palo Alto Caltrain Station                   |\n",
            "|Embarcadero at Folsom                        |\n",
            "|Mountain View City Hall                      |\n",
            "|Market at 4th                                |\n",
            "|Temporary Transbay Terminal (Howard at Beale)|\n",
            "|Santa Clara County Civic Center              |\n",
            "|Steuart at Market                            |\n",
            "|San Francisco City Hall                      |\n",
            "|South Van Ness at Market                     |\n",
            "|San Antonio Caltrain Station                 |\n",
            "|Embarcadero at Bryant                        |\n",
            "|Redwood City Caltrain Station                |\n",
            "|San Jose City Hall                           |\n",
            "|Mountain View Caltrain Station               |\n",
            "|Evelyn Park and Ride                         |\n",
            "|Powell Street BART                           |\n",
            "|Clay at Battery                              |\n",
            "|University and Emerson                       |\n",
            "|Market at 10th                               |\n",
            "|Redwood City Public Library                  |\n",
            "|Adobe on Almaden                             |\n",
            "|Broadway St at Battery St                    |\n",
            "|Beale at Market                              |\n",
            "|5th at Howard                                |\n",
            "|San Pedro Square                             |\n",
            "|Redwood City Medical Center                  |\n",
            "|San Mateo County Center                      |\n",
            "|Grant Avenue at Columbus Avenue              |\n",
            "|Stanford in Redwood City                     |\n",
            "|Harry Bridges Plaza (Ferry Building)         |\n",
            "|Mechanics Plaza (Market at Battery)          |\n",
            "|Arena Green / SAP Center                     |\n",
            "|Embarcadero at Sansome                       |\n",
            "|Santa Clara at Almaden                       |\n",
            "|Castro Street and El Camino Real             |\n",
            "|San Antonio Shopping Center                  |\n",
            "|Park at Olive                                |\n",
            "|Howard at 2nd                                |\n",
            "|Franklin at Maple                            |\n",
            "|2nd at South Park                            |\n",
            "|Cowper at University                         |\n",
            "|San Francisco Caltrain (Townsend at 4th)     |\n",
            "|Embarcadero at Vallejo                       |\n",
            "|St James Park                                |\n",
            "|SJSU 4th at San Carlos                       |\n",
            "+---------------------------------------------+\n",
            "\n"
          ]
        }
      ]
    },
    {
      "cell_type": "markdown",
      "metadata": {
        "id": "LBRI-SCvAmrk"
      },
      "source": [
        "8)\tRetourner la station qui a le nombre maximum de voyages entrants."
      ]
    },
    {
      "cell_type": "code",
      "execution_count": null,
      "metadata": {
        "colab": {
          "base_uri": "https://localhost:8080/"
        },
        "id": "JY38ZFnQ_D-N",
        "outputId": "882f0ba7-5196-43b2-9dbe-b54c0ed91828"
      },
      "outputs": [
        {
          "name": "stdout",
          "output_type": "stream",
          "text": [
            "+---------------------------------------+--------+\n",
            "|id                                     |inDegree|\n",
            "+---------------------------------------+--------+\n",
            "|San Francisco Caltrain 2 (330 Townsend)|9       |\n",
            "+---------------------------------------+--------+\n",
            "\n"
          ]
        }
      ],
      "source": [
        "from pyspark.sql.functions import desc\n",
        "stationGraph.inDegrees.orderBy(desc(\"inDegree\")).limit(1)\\\n",
        ".show(1, False)"
      ]
    },
    {
      "cell_type": "code",
      "source": [
        "from pyspark.sql.functions import count\n",
        "from pyspark.sql.functions import desc\n",
        "\n",
        "stationGraph.edges.groupBy(\"dst\").agg(count('*').alias('ct')).orderBy(desc('ct')).limit(1).show()\n"
      ],
      "metadata": {
        "colab": {
          "base_uri": "https://localhost:8080/"
        },
        "id": "rj19RIZp_F0D",
        "outputId": "9dfb42dc-c640-4193-eae0-cc15e73eda65"
      },
      "execution_count": null,
      "outputs": [
        {
          "output_type": "stream",
          "name": "stdout",
          "text": [
            "+--------------------+---+\n",
            "|                 dst| ct|\n",
            "+--------------------+---+\n",
            "|San Francisco Cal...|  9|\n",
            "+--------------------+---+\n",
            "\n"
          ]
        }
      ]
    },
    {
      "cell_type": "markdown",
      "metadata": {
        "id": "zooLaGx-BJLp"
      },
      "source": [
        "9)\tRetourner le voyage qui a la plus grande durée."
      ]
    },
    {
      "cell_type": "code",
      "execution_count": null,
      "metadata": {
        "colab": {
          "base_uri": "https://localhost:8080/"
        },
        "id": "OPw3-9X4AkHK",
        "outputId": "b0f868bf-4439-497f-f160-bd63b812a3bb"
      },
      "outputs": [
        {
          "name": "stdout",
          "output_type": "stream",
          "text": [
            "+-------+--------+---------------+--------------+--------------+---------------+--------------------+------------+------+---------------+--------+\n",
            "|Trip ID|Duration|     Start Date|           src|Start Terminal|       End Date|                 dst|End Terminal|Bike #|Subscriber Type|Zip Code|\n",
            "+-------+--------+---------------+--------------+--------------+---------------+--------------------+------------+------+---------------+--------+\n",
            "| 913448|     932|8/31/2015 21:57|Post at Kearny|            47|8/31/2015 22:12|South Van Ness at...|          66|   472|     Subscriber|   94702|\n",
            "+-------+--------+---------------+--------------+--------------+---------------+--------------------+------------+------+---------------+--------+\n",
            "\n"
          ]
        }
      ],
      "source": [
        "stationGraph.edges.orderBy(desc(\"Duration\")).limit(1).show()"
      ]
    },
    {
      "cell_type": "markdown",
      "metadata": {
        "id": "jrmr_TL6B4cr"
      },
      "source": [
        "10)\tCréer un sous-graphe qui ne contient que les voyages qui se commencent ou se terminent à ‘Townsend at 7th’."
      ]
    },
    {
      "cell_type": "code",
      "execution_count": null,
      "metadata": {
        "colab": {
          "base_uri": "https://localhost:8080/"
        },
        "id": "0pX6mHoJMt58",
        "outputId": "06064cfa-0f39-41a0-9a42-cd2d97c01c9b"
      },
      "outputs": [
        {
          "name": "stderr",
          "output_type": "stream",
          "text": [
            "/usr/local/lib/python3.9/dist-packages/pyspark/sql/dataframe.py:169: UserWarning: DataFrame.sql_ctx is an internal property, and will be removed in future releases. Use DataFrame.sparkSession instead.\n",
            "  warnings.warn(\n"
          ]
        }
      ],
      "source": [
        "townAnd7thEdges = stationGraph.edges\\\n",
        ".where(\"src = 'Townsend at 7th' OR dst = 'Townsend at 7th'\")\n",
        "\n",
        "subgraph = GraphFrame(stationGraph.vertices, townAnd7thEdges)"
      ]
    },
    {
      "cell_type": "markdown",
      "metadata": {
        "id": "ZWP-oXYsDlAV"
      },
      "source": [
        "11)\tRetourner tous les chemins qui forment un motif en \"triangle\" entre trois stations."
      ]
    },
    {
      "cell_type": "code",
      "execution_count": null,
      "metadata": {
        "colab": {
          "base_uri": "https://localhost:8080/"
        },
        "id": "2KO-PEJqp_St",
        "outputId": "83d91147-76a2-4b10-f976-a41af8ceb7bf"
      },
      "outputs": [
        {
          "output_type": "stream",
          "name": "stderr",
          "text": [
            "/usr/local/lib/python3.10/dist-packages/pyspark/sql/dataframe.py:148: UserWarning: DataFrame constructor is internal. Do not directly use it.\n",
            "  warnings.warn(\"DataFrame constructor is internal. Do not directly use it.\")\n"
          ]
        },
        {
          "output_type": "stream",
          "name": "stdout",
          "text": [
            "+------------------------------------------------------------------------------------------------+-------------------------------------------------------------------------------------------------------------------------------------------+------------------------------------------------------------------------------------------------+-------------------------------------------------------------------------------------------------------------------------------------------+------------------------------------------------------------------------------------------------+-------------------------------------------------------------------------------------------------------------------------------------------+\n",
            "|a                                                                                               |ab                                                                                                                                         |b                                                                                               |bc                                                                                                                                         |c                                                                                               |ca                                                                                                                                         |\n",
            "+------------------------------------------------------------------------------------------------+-------------------------------------------------------------------------------------------------------------------------------------------+------------------------------------------------------------------------------------------------+-------------------------------------------------------------------------------------------------------------------------------------------+------------------------------------------------------------------------------------------------+-------------------------------------------------------------------------------------------------------------------------------------------+\n",
            "|{60, Embarcadero at Sansome, 37.80477, -122.403234, 15, San Francisco, 8/21/2013}               |{913450, 255, 8/31/2015 22:16, Embarcadero at Sansome, 60, 8/31/2015 22:20, Steuart at Market, 74, 470, Subscriber, 94111}                 |{74, Steuart at Market, 37.794139, -122.394434, 23, San Francisco, 8/25/2013}                   |{913315, 518, 8/31/2015 19:33, Steuart at Market, 74, 8/31/2015 19:42, 2nd at Townsend, 61, 463, Subscriber, 94107}                        |{61, 2nd at Townsend, 37.780526, -122.390288, 27, San Francisco, 8/22/2013}                     |{913383, 1435, 8/31/2015 20:20, 2nd at Townsend, 61, 8/31/2015 20:44, Embarcadero at Sansome, 60, 604, Customer, 98103}                    |\n",
            "|{60, Embarcadero at Sansome, 37.80477, -122.403234, 15, San Francisco, 8/21/2013}               |{913443, 691, 8/31/2015 21:49, Embarcadero at Sansome, 60, 8/31/2015 22:01, Market at Sansome, 77, 434, Subscriber, 94109}                 |{77, Market at Sansome, 37.789625, -122.400811, 27, San Francisco, 8/25/2013}                   |{913403, 497, 8/31/2015 20:37, Market at Sansome, 77, 8/31/2015 20:45, 2nd at Townsend, 61, 359, Subscriber, 94105}                        |{61, 2nd at Townsend, 37.780526, -122.390288, 27, San Francisco, 8/22/2013}                     |{913383, 1435, 8/31/2015 20:20, 2nd at Townsend, 61, 8/31/2015 20:44, Embarcadero at Sansome, 60, 604, Customer, 98103}                    |\n",
            "|{69, San Francisco Caltrain 2 (330 Townsend), 37.7766, -122.39547, 23, San Francisco, 8/23/2013}|{913434, 283, 8/31/2015 21:19, San Francisco Caltrain 2 (330 Townsend), 69, 8/31/2015 21:24, Townsend at 7th, 65, 521, Subscriber, 94107}  |{65, Townsend at 7th, 37.771058, -122.402717, 15, San Francisco, 8/22/2013}                     |{913371, 663, 8/31/2015 20:10, Townsend at 7th, 65, 8/31/2015 20:21, Spear at Folsom, 49, 405, Subscriber, 94103}                          |{49, Spear at Folsom, 37.790302, -122.390637, 19, San Francisco, 8/20/2013}                     |{913432, 703, 8/31/2015 21:16, Spear at Folsom, 49, 8/31/2015 21:28, San Francisco Caltrain 2 (330 Townsend), 69, 426, Subscriber, 95032}  |\n",
            "|{49, Spear at Folsom, 37.790302, -122.390637, 19, San Francisco, 8/20/2013}                     |{913432, 703, 8/31/2015 21:16, Spear at Folsom, 49, 8/31/2015 21:28, San Francisco Caltrain 2 (330 Townsend), 69, 426, Subscriber, 95032}  |{69, San Francisco Caltrain 2 (330 Townsend), 37.7766, -122.39547, 23, San Francisco, 8/23/2013}|{913308, 185, 8/31/2015 19:30, San Francisco Caltrain 2 (330 Townsend), 69, 8/31/2015 19:33, 2nd at Townsend, 61, 541, Subscriber, 94158}  |{61, 2nd at Townsend, 37.780526, -122.390288, 27, San Francisco, 8/22/2013}                     |{913297, 501, 8/31/2015 19:21, 2nd at Townsend, 61, 8/31/2015 19:29, Spear at Folsom, 49, 607, Subscriber, 94107}                          |\n",
            "|{49, Spear at Folsom, 37.790302, -122.390637, 19, San Francisco, 8/20/2013}                     |{913432, 703, 8/31/2015 21:16, Spear at Folsom, 49, 8/31/2015 21:28, San Francisco Caltrain 2 (330 Townsend), 69, 426, Subscriber, 95032}  |{69, San Francisco Caltrain 2 (330 Townsend), 37.7766, -122.39547, 23, San Francisco, 8/23/2013}|{913316, 300, 8/31/2015 19:34, San Francisco Caltrain 2 (330 Townsend), 69, 8/31/2015 19:39, Townsend at 7th, 65, 368, Subscriber, 94107}  |{65, Townsend at 7th, 37.771058, -122.402717, 15, San Francisco, 8/22/2013}                     |{913371, 663, 8/31/2015 20:10, Townsend at 7th, 65, 8/31/2015 20:21, Spear at Folsom, 49, 405, Subscriber, 94103}                          |\n",
            "|{49, Spear at Folsom, 37.790302, -122.390637, 19, San Francisco, 8/20/2013}                     |{913432, 703, 8/31/2015 21:16, Spear at Folsom, 49, 8/31/2015 21:28, San Francisco Caltrain 2 (330 Townsend), 69, 426, Subscriber, 95032}  |{69, San Francisco Caltrain 2 (330 Townsend), 37.7766, -122.39547, 23, San Francisco, 8/23/2013}|{913324, 375, 8/31/2015 19:41, San Francisco Caltrain 2 (330 Townsend), 69, 8/31/2015 19:47, 2nd at South Park, 64, 558, Subscriber, 94105}|{64, 2nd at South Park, 37.782259, -122.392738, 15, San Francisco, 8/22/2013}                   |{913303, 296, 8/31/2015 19:27, 2nd at South Park, 64, 8/31/2015 19:32, Spear at Folsom, 49, 672, Subscriber, 94105}                        |\n",
            "|{49, Spear at Folsom, 37.790302, -122.390637, 19, San Francisco, 8/20/2013}                     |{913432, 703, 8/31/2015 21:16, Spear at Folsom, 49, 8/31/2015 21:28, San Francisco Caltrain 2 (330 Townsend), 69, 426, Subscriber, 95032}  |{69, San Francisco Caltrain 2 (330 Townsend), 37.7766, -122.39547, 23, San Francisco, 8/23/2013}|{913337, 384, 8/31/2015 19:47, San Francisco Caltrain 2 (330 Townsend), 69, 8/31/2015 19:54, 2nd at South Park, 64, 277, Subscriber, 94107}|{64, 2nd at South Park, 37.782259, -122.392738, 15, San Francisco, 8/22/2013}                   |{913303, 296, 8/31/2015 19:27, 2nd at South Park, 64, 8/31/2015 19:32, Spear at Folsom, 49, 672, Subscriber, 94105}                        |\n",
            "|{49, Spear at Folsom, 37.790302, -122.390637, 19, San Francisco, 8/20/2013}                     |{913432, 703, 8/31/2015 21:16, Spear at Folsom, 49, 8/31/2015 21:28, San Francisco Caltrain 2 (330 Townsend), 69, 426, Subscriber, 95032}  |{69, San Francisco Caltrain 2 (330 Townsend), 37.7766, -122.39547, 23, San Francisco, 8/23/2013}|{913361, 236, 8/31/2015 20:05, San Francisco Caltrain 2 (330 Townsend), 69, 8/31/2015 20:09, Townsend at 7th, 65, 270, Subscriber, 94107}  |{65, Townsend at 7th, 37.771058, -122.402717, 15, San Francisco, 8/22/2013}                     |{913371, 663, 8/31/2015 20:10, Townsend at 7th, 65, 8/31/2015 20:21, Spear at Folsom, 49, 405, Subscriber, 94103}                          |\n",
            "|{49, Spear at Folsom, 37.790302, -122.390637, 19, San Francisco, 8/20/2013}                     |{913432, 703, 8/31/2015 21:16, Spear at Folsom, 49, 8/31/2015 21:28, San Francisco Caltrain 2 (330 Townsend), 69, 426, Subscriber, 95032}  |{69, San Francisco Caltrain 2 (330 Townsend), 37.7766, -122.39547, 23, San Francisco, 8/23/2013}|{913404, 273, 8/31/2015 20:39, San Francisco Caltrain 2 (330 Townsend), 69, 8/31/2015 20:44, Townsend at 7th, 65, 287, Subscriber, 94107}  |{65, Townsend at 7th, 37.771058, -122.402717, 15, San Francisco, 8/22/2013}                     |{913371, 663, 8/31/2015 20:10, Townsend at 7th, 65, 8/31/2015 20:21, Spear at Folsom, 49, 405, Subscriber, 94103}                          |\n",
            "|{49, Spear at Folsom, 37.790302, -122.390637, 19, San Francisco, 8/20/2013}                     |{913432, 703, 8/31/2015 21:16, Spear at Folsom, 49, 8/31/2015 21:28, San Francisco Caltrain 2 (330 Townsend), 69, 426, Subscriber, 95032}  |{69, San Francisco Caltrain 2 (330 Townsend), 37.7766, -122.39547, 23, San Francisco, 8/23/2013}|{913434, 283, 8/31/2015 21:19, San Francisco Caltrain 2 (330 Townsend), 69, 8/31/2015 21:24, Townsend at 7th, 65, 521, Subscriber, 94107}  |{65, Townsend at 7th, 37.771058, -122.402717, 15, San Francisco, 8/22/2013}                     |{913371, 663, 8/31/2015 20:10, Townsend at 7th, 65, 8/31/2015 20:21, Spear at Folsom, 49, 405, Subscriber, 94103}                          |\n",
            "|{69, San Francisco Caltrain 2 (330 Townsend), 37.7766, -122.39547, 23, San Francisco, 8/23/2013}|{913404, 273, 8/31/2015 20:39, San Francisco Caltrain 2 (330 Townsend), 69, 8/31/2015 20:44, Townsend at 7th, 65, 287, Subscriber, 94107}  |{65, Townsend at 7th, 37.771058, -122.402717, 15, San Francisco, 8/22/2013}                     |{913371, 663, 8/31/2015 20:10, Townsend at 7th, 65, 8/31/2015 20:21, Spear at Folsom, 49, 405, Subscriber, 94103}                          |{49, Spear at Folsom, 37.790302, -122.390637, 19, San Francisco, 8/20/2013}                     |{913432, 703, 8/31/2015 21:16, Spear at Folsom, 49, 8/31/2015 21:28, San Francisco Caltrain 2 (330 Townsend), 69, 426, Subscriber, 95032}  |\n",
            "|{77, Market at Sansome, 37.789625, -122.400811, 27, San Francisco, 8/25/2013}                   |{913403, 497, 8/31/2015 20:37, Market at Sansome, 77, 8/31/2015 20:45, 2nd at Townsend, 61, 359, Subscriber, 94105}                        |{61, 2nd at Townsend, 37.780526, -122.390288, 27, San Francisco, 8/22/2013}                     |{913309, 344, 8/31/2015 19:30, 2nd at Townsend, 61, 8/31/2015 19:36, Howard at 2nd, 63, 501, Subscriber, 94965}                            |{63, Howard at 2nd, 37.786978, -122.398108, 19, San Francisco, 8/22/2013}                       |{913311, 144, 8/31/2015 19:31, Howard at 2nd, 63, 8/31/2015 19:33, Market at Sansome, 77, 282, Subscriber, 94105}                          |\n",
            "|{77, Market at Sansome, 37.789625, -122.400811, 27, San Francisco, 8/25/2013}                   |{913403, 497, 8/31/2015 20:37, Market at Sansome, 77, 8/31/2015 20:45, 2nd at Townsend, 61, 359, Subscriber, 94105}                        |{61, 2nd at Townsend, 37.780526, -122.390288, 27, San Francisco, 8/22/2013}                     |{913383, 1435, 8/31/2015 20:20, 2nd at Townsend, 61, 8/31/2015 20:44, Embarcadero at Sansome, 60, 604, Customer, 98103}                    |{60, Embarcadero at Sansome, 37.80477, -122.403234, 15, San Francisco, 8/21/2013}               |{913443, 691, 8/31/2015 21:49, Embarcadero at Sansome, 60, 8/31/2015 22:01, Market at Sansome, 77, 434, Subscriber, 94109}                 |\n",
            "|{61, 2nd at Townsend, 37.780526, -122.390288, 27, San Francisco, 8/22/2013}                     |{913383, 1435, 8/31/2015 20:20, 2nd at Townsend, 61, 8/31/2015 20:44, Embarcadero at Sansome, 60, 604, Customer, 98103}                    |{60, Embarcadero at Sansome, 37.80477, -122.403234, 15, San Francisco, 8/21/2013}               |{913443, 691, 8/31/2015 21:49, Embarcadero at Sansome, 60, 8/31/2015 22:01, Market at Sansome, 77, 434, Subscriber, 94109}                 |{77, Market at Sansome, 37.789625, -122.400811, 27, San Francisco, 8/25/2013}                   |{913403, 497, 8/31/2015 20:37, Market at Sansome, 77, 8/31/2015 20:45, 2nd at Townsend, 61, 359, Subscriber, 94105}                        |\n",
            "|{61, 2nd at Townsend, 37.780526, -122.390288, 27, San Francisco, 8/22/2013}                     |{913383, 1435, 8/31/2015 20:20, 2nd at Townsend, 61, 8/31/2015 20:44, Embarcadero at Sansome, 60, 604, Customer, 98103}                    |{60, Embarcadero at Sansome, 37.80477, -122.403234, 15, San Francisco, 8/21/2013}               |{913450, 255, 8/31/2015 22:16, Embarcadero at Sansome, 60, 8/31/2015 22:20, Steuart at Market, 74, 470, Subscriber, 94111}                 |{74, Steuart at Market, 37.794139, -122.394434, 23, San Francisco, 8/25/2013}                   |{913315, 518, 8/31/2015 19:33, Steuart at Market, 74, 8/31/2015 19:42, 2nd at Townsend, 61, 463, Subscriber, 94107}                        |\n",
            "|{65, Townsend at 7th, 37.771058, -122.402717, 15, San Francisco, 8/22/2013}                     |{913371, 663, 8/31/2015 20:10, Townsend at 7th, 65, 8/31/2015 20:21, Spear at Folsom, 49, 405, Subscriber, 94103}                          |{49, Spear at Folsom, 37.790302, -122.390637, 19, San Francisco, 8/20/2013}                     |{913432, 703, 8/31/2015 21:16, Spear at Folsom, 49, 8/31/2015 21:28, San Francisco Caltrain 2 (330 Townsend), 69, 426, Subscriber, 95032}  |{69, San Francisco Caltrain 2 (330 Townsend), 37.7766, -122.39547, 23, San Francisco, 8/23/2013}|{913316, 300, 8/31/2015 19:34, San Francisco Caltrain 2 (330 Townsend), 69, 8/31/2015 19:39, Townsend at 7th, 65, 368, Subscriber, 94107}  |\n",
            "|{65, Townsend at 7th, 37.771058, -122.402717, 15, San Francisco, 8/22/2013}                     |{913371, 663, 8/31/2015 20:10, Townsend at 7th, 65, 8/31/2015 20:21, Spear at Folsom, 49, 405, Subscriber, 94103}                          |{49, Spear at Folsom, 37.790302, -122.390637, 19, San Francisco, 8/20/2013}                     |{913432, 703, 8/31/2015 21:16, Spear at Folsom, 49, 8/31/2015 21:28, San Francisco Caltrain 2 (330 Townsend), 69, 426, Subscriber, 95032}  |{69, San Francisco Caltrain 2 (330 Townsend), 37.7766, -122.39547, 23, San Francisco, 8/23/2013}|{913361, 236, 8/31/2015 20:05, San Francisco Caltrain 2 (330 Townsend), 69, 8/31/2015 20:09, Townsend at 7th, 65, 270, Subscriber, 94107}  |\n",
            "|{65, Townsend at 7th, 37.771058, -122.402717, 15, San Francisco, 8/22/2013}                     |{913371, 663, 8/31/2015 20:10, Townsend at 7th, 65, 8/31/2015 20:21, Spear at Folsom, 49, 405, Subscriber, 94103}                          |{49, Spear at Folsom, 37.790302, -122.390637, 19, San Francisco, 8/20/2013}                     |{913432, 703, 8/31/2015 21:16, Spear at Folsom, 49, 8/31/2015 21:28, San Francisco Caltrain 2 (330 Townsend), 69, 426, Subscriber, 95032}  |{69, San Francisco Caltrain 2 (330 Townsend), 37.7766, -122.39547, 23, San Francisco, 8/23/2013}|{913404, 273, 8/31/2015 20:39, San Francisco Caltrain 2 (330 Townsend), 69, 8/31/2015 20:44, Townsend at 7th, 65, 287, Subscriber, 94107}  |\n",
            "|{65, Townsend at 7th, 37.771058, -122.402717, 15, San Francisco, 8/22/2013}                     |{913371, 663, 8/31/2015 20:10, Townsend at 7th, 65, 8/31/2015 20:21, Spear at Folsom, 49, 405, Subscriber, 94103}                          |{49, Spear at Folsom, 37.790302, -122.390637, 19, San Francisco, 8/20/2013}                     |{913432, 703, 8/31/2015 21:16, Spear at Folsom, 49, 8/31/2015 21:28, San Francisco Caltrain 2 (330 Townsend), 69, 426, Subscriber, 95032}  |{69, San Francisco Caltrain 2 (330 Townsend), 37.7766, -122.39547, 23, San Francisco, 8/23/2013}|{913434, 283, 8/31/2015 21:19, San Francisco Caltrain 2 (330 Townsend), 69, 8/31/2015 21:24, Townsend at 7th, 65, 521, Subscriber, 94107}  |\n",
            "|{63, Howard at 2nd, 37.786978, -122.398108, 19, San Francisco, 8/22/2013}                       |{913363, 489, 8/31/2015 20:06, Howard at 2nd, 63, 8/31/2015 20:14, San Francisco Caltrain 2 (330 Townsend), 69, 465, Subscriber, 94070}    |{69, San Francisco Caltrain 2 (330 Townsend), 37.7766, -122.39547, 23, San Francisco, 8/23/2013}|{913308, 185, 8/31/2015 19:30, San Francisco Caltrain 2 (330 Townsend), 69, 8/31/2015 19:33, 2nd at Townsend, 61, 541, Subscriber, 94158}  |{61, 2nd at Townsend, 37.780526, -122.390288, 27, San Francisco, 8/22/2013}                     |{913309, 344, 8/31/2015 19:30, 2nd at Townsend, 61, 8/31/2015 19:36, Howard at 2nd, 63, 501, Subscriber, 94965}                            |\n",
            "|{63, Howard at 2nd, 37.786978, -122.398108, 19, San Francisco, 8/22/2013}                       |{913363, 489, 8/31/2015 20:06, Howard at 2nd, 63, 8/31/2015 20:14, San Francisco Caltrain 2 (330 Townsend), 69, 465, Subscriber, 94070}    |{69, San Francisco Caltrain 2 (330 Townsend), 37.7766, -122.39547, 23, San Francisco, 8/23/2013}|{913324, 375, 8/31/2015 19:41, San Francisco Caltrain 2 (330 Townsend), 69, 8/31/2015 19:47, 2nd at South Park, 64, 558, Subscriber, 94105}|{64, 2nd at South Park, 37.782259, -122.392738, 15, San Francisco, 8/22/2013}                   |{913294, 213, 8/31/2015 19:19, 2nd at South Park, 64, 8/31/2015 19:23, Howard at 2nd, 63, 193, Subscriber, 94107}                          |\n",
            "|{63, Howard at 2nd, 37.786978, -122.398108, 19, San Francisco, 8/22/2013}                       |{913363, 489, 8/31/2015 20:06, Howard at 2nd, 63, 8/31/2015 20:14, San Francisco Caltrain 2 (330 Townsend), 69, 465, Subscriber, 94070}    |{69, San Francisco Caltrain 2 (330 Townsend), 37.7766, -122.39547, 23, San Francisco, 8/23/2013}|{913337, 384, 8/31/2015 19:47, San Francisco Caltrain 2 (330 Townsend), 69, 8/31/2015 19:54, 2nd at South Park, 64, 277, Subscriber, 94107}|{64, 2nd at South Park, 37.782259, -122.392738, 15, San Francisco, 8/22/2013}                   |{913294, 213, 8/31/2015 19:19, 2nd at South Park, 64, 8/31/2015 19:23, Howard at 2nd, 63, 193, Subscriber, 94107}                          |\n",
            "|{69, San Francisco Caltrain 2 (330 Townsend), 37.7766, -122.39547, 23, San Francisco, 8/23/2013}|{913361, 236, 8/31/2015 20:05, San Francisco Caltrain 2 (330 Townsend), 69, 8/31/2015 20:09, Townsend at 7th, 65, 270, Subscriber, 94107}  |{65, Townsend at 7th, 37.771058, -122.402717, 15, San Francisco, 8/22/2013}                     |{913371, 663, 8/31/2015 20:10, Townsend at 7th, 65, 8/31/2015 20:21, Spear at Folsom, 49, 405, Subscriber, 94103}                          |{49, Spear at Folsom, 37.790302, -122.390637, 19, San Francisco, 8/20/2013}                     |{913432, 703, 8/31/2015 21:16, Spear at Folsom, 49, 8/31/2015 21:28, San Francisco Caltrain 2 (330 Townsend), 69, 426, Subscriber, 95032}  |\n",
            "|{63, Howard at 2nd, 37.786978, -122.398108, 19, San Francisco, 8/22/2013}                       |{913351, 290, 8/31/2015 20:01, Howard at 2nd, 63, 8/31/2015 20:06, Market at 4th, 76, 401, Subscriber, 94107}                              |{76, Market at 4th, 37.786305, -122.404966, 19, San Francisco, 8/25/2013}                       |{913320, 792, 8/31/2015 19:39, Market at 4th, 76, 8/31/2015 19:53, 2nd at Townsend, 61, 437, Subscriber, 94107}                            |{61, 2nd at Townsend, 37.780526, -122.390288, 27, San Francisco, 8/22/2013}                     |{913309, 344, 8/31/2015 19:30, 2nd at Townsend, 61, 8/31/2015 19:36, Howard at 2nd, 63, 501, Subscriber, 94965}                            |\n",
            "|{69, San Francisco Caltrain 2 (330 Townsend), 37.7766, -122.39547, 23, San Francisco, 8/23/2013}|{913337, 384, 8/31/2015 19:47, San Francisco Caltrain 2 (330 Townsend), 69, 8/31/2015 19:54, 2nd at South Park, 64, 277, Subscriber, 94107}|{64, 2nd at South Park, 37.782259, -122.392738, 15, San Francisco, 8/22/2013}                   |{913294, 213, 8/31/2015 19:19, 2nd at South Park, 64, 8/31/2015 19:23, Howard at 2nd, 63, 193, Subscriber, 94107}                          |{63, Howard at 2nd, 37.786978, -122.398108, 19, San Francisco, 8/22/2013}                       |{913363, 489, 8/31/2015 20:06, Howard at 2nd, 63, 8/31/2015 20:14, San Francisco Caltrain 2 (330 Townsend), 69, 465, Subscriber, 94070}    |\n",
            "|{69, San Francisco Caltrain 2 (330 Townsend), 37.7766, -122.39547, 23, San Francisco, 8/23/2013}|{913337, 384, 8/31/2015 19:47, San Francisco Caltrain 2 (330 Townsend), 69, 8/31/2015 19:54, 2nd at South Park, 64, 277, Subscriber, 94107}|{64, 2nd at South Park, 37.782259, -122.392738, 15, San Francisco, 8/22/2013}                   |{913303, 296, 8/31/2015 19:27, 2nd at South Park, 64, 8/31/2015 19:32, Spear at Folsom, 49, 672, Subscriber, 94105}                        |{49, Spear at Folsom, 37.790302, -122.390637, 19, San Francisco, 8/20/2013}                     |{913432, 703, 8/31/2015 21:16, Spear at Folsom, 49, 8/31/2015 21:28, San Francisco Caltrain 2 (330 Townsend), 69, 426, Subscriber, 95032}  |\n",
            "|{69, San Francisco Caltrain 2 (330 Townsend), 37.7766, -122.39547, 23, San Francisco, 8/23/2013}|{913324, 375, 8/31/2015 19:41, San Francisco Caltrain 2 (330 Townsend), 69, 8/31/2015 19:47, 2nd at South Park, 64, 558, Subscriber, 94105}|{64, 2nd at South Park, 37.782259, -122.392738, 15, San Francisco, 8/22/2013}                   |{913294, 213, 8/31/2015 19:19, 2nd at South Park, 64, 8/31/2015 19:23, Howard at 2nd, 63, 193, Subscriber, 94107}                          |{63, Howard at 2nd, 37.786978, -122.398108, 19, San Francisco, 8/22/2013}                       |{913363, 489, 8/31/2015 20:06, Howard at 2nd, 63, 8/31/2015 20:14, San Francisco Caltrain 2 (330 Townsend), 69, 465, Subscriber, 94070}    |\n",
            "|{69, San Francisco Caltrain 2 (330 Townsend), 37.7766, -122.39547, 23, San Francisco, 8/23/2013}|{913324, 375, 8/31/2015 19:41, San Francisco Caltrain 2 (330 Townsend), 69, 8/31/2015 19:47, 2nd at South Park, 64, 558, Subscriber, 94105}|{64, 2nd at South Park, 37.782259, -122.392738, 15, San Francisco, 8/22/2013}                   |{913303, 296, 8/31/2015 19:27, 2nd at South Park, 64, 8/31/2015 19:32, Spear at Folsom, 49, 672, Subscriber, 94105}                        |{49, Spear at Folsom, 37.790302, -122.390637, 19, San Francisco, 8/20/2013}                     |{913432, 703, 8/31/2015 21:16, Spear at Folsom, 49, 8/31/2015 21:28, San Francisco Caltrain 2 (330 Townsend), 69, 426, Subscriber, 95032}  |\n",
            "|{76, Market at 4th, 37.786305, -122.404966, 19, San Francisco, 8/25/2013}                       |{913320, 792, 8/31/2015 19:39, Market at 4th, 76, 8/31/2015 19:53, 2nd at Townsend, 61, 437, Subscriber, 94107}                            |{61, 2nd at Townsend, 37.780526, -122.390288, 27, San Francisco, 8/22/2013}                     |{913309, 344, 8/31/2015 19:30, 2nd at Townsend, 61, 8/31/2015 19:36, Howard at 2nd, 63, 501, Subscriber, 94965}                            |{63, Howard at 2nd, 37.786978, -122.398108, 19, San Francisco, 8/22/2013}                       |{913351, 290, 8/31/2015 20:01, Howard at 2nd, 63, 8/31/2015 20:06, Market at 4th, 76, 401, Subscriber, 94107}                              |\n",
            "|{69, San Francisco Caltrain 2 (330 Townsend), 37.7766, -122.39547, 23, San Francisco, 8/23/2013}|{913316, 300, 8/31/2015 19:34, San Francisco Caltrain 2 (330 Townsend), 69, 8/31/2015 19:39, Townsend at 7th, 65, 368, Subscriber, 94107}  |{65, Townsend at 7th, 37.771058, -122.402717, 15, San Francisco, 8/22/2013}                     |{913371, 663, 8/31/2015 20:10, Townsend at 7th, 65, 8/31/2015 20:21, Spear at Folsom, 49, 405, Subscriber, 94103}                          |{49, Spear at Folsom, 37.790302, -122.390637, 19, San Francisco, 8/20/2013}                     |{913432, 703, 8/31/2015 21:16, Spear at Folsom, 49, 8/31/2015 21:28, San Francisco Caltrain 2 (330 Townsend), 69, 426, Subscriber, 95032}  |\n",
            "|{74, Steuart at Market, 37.794139, -122.394434, 23, San Francisco, 8/25/2013}                   |{913315, 518, 8/31/2015 19:33, Steuart at Market, 74, 8/31/2015 19:42, 2nd at Townsend, 61, 463, Subscriber, 94107}                        |{61, 2nd at Townsend, 37.780526, -122.390288, 27, San Francisco, 8/22/2013}                     |{913383, 1435, 8/31/2015 20:20, 2nd at Townsend, 61, 8/31/2015 20:44, Embarcadero at Sansome, 60, 604, Customer, 98103}                    |{60, Embarcadero at Sansome, 37.80477, -122.403234, 15, San Francisco, 8/21/2013}               |{913450, 255, 8/31/2015 22:16, Embarcadero at Sansome, 60, 8/31/2015 22:20, Steuart at Market, 74, 470, Subscriber, 94111}                 |\n",
            "|{63, Howard at 2nd, 37.786978, -122.398108, 19, San Francisco, 8/22/2013}                       |{913311, 144, 8/31/2015 19:31, Howard at 2nd, 63, 8/31/2015 19:33, Market at Sansome, 77, 282, Subscriber, 94105}                          |{77, Market at Sansome, 37.789625, -122.400811, 27, San Francisco, 8/25/2013}                   |{913403, 497, 8/31/2015 20:37, Market at Sansome, 77, 8/31/2015 20:45, 2nd at Townsend, 61, 359, Subscriber, 94105}                        |{61, 2nd at Townsend, 37.780526, -122.390288, 27, San Francisco, 8/22/2013}                     |{913309, 344, 8/31/2015 19:30, 2nd at Townsend, 61, 8/31/2015 19:36, Howard at 2nd, 63, 501, Subscriber, 94965}                            |\n",
            "|{61, 2nd at Townsend, 37.780526, -122.390288, 27, San Francisco, 8/22/2013}                     |{913309, 344, 8/31/2015 19:30, 2nd at Townsend, 61, 8/31/2015 19:36, Howard at 2nd, 63, 501, Subscriber, 94965}                            |{63, Howard at 2nd, 37.786978, -122.398108, 19, San Francisco, 8/22/2013}                       |{913311, 144, 8/31/2015 19:31, Howard at 2nd, 63, 8/31/2015 19:33, Market at Sansome, 77, 282, Subscriber, 94105}                          |{77, Market at Sansome, 37.789625, -122.400811, 27, San Francisco, 8/25/2013}                   |{913403, 497, 8/31/2015 20:37, Market at Sansome, 77, 8/31/2015 20:45, 2nd at Townsend, 61, 359, Subscriber, 94105}                        |\n",
            "|{61, 2nd at Townsend, 37.780526, -122.390288, 27, San Francisco, 8/22/2013}                     |{913309, 344, 8/31/2015 19:30, 2nd at Townsend, 61, 8/31/2015 19:36, Howard at 2nd, 63, 501, Subscriber, 94965}                            |{63, Howard at 2nd, 37.786978, -122.398108, 19, San Francisco, 8/22/2013}                       |{913351, 290, 8/31/2015 20:01, Howard at 2nd, 63, 8/31/2015 20:06, Market at 4th, 76, 401, Subscriber, 94107}                              |{76, Market at 4th, 37.786305, -122.404966, 19, San Francisco, 8/25/2013}                       |{913320, 792, 8/31/2015 19:39, Market at 4th, 76, 8/31/2015 19:53, 2nd at Townsend, 61, 437, Subscriber, 94107}                            |\n",
            "|{61, 2nd at Townsend, 37.780526, -122.390288, 27, San Francisco, 8/22/2013}                     |{913309, 344, 8/31/2015 19:30, 2nd at Townsend, 61, 8/31/2015 19:36, Howard at 2nd, 63, 501, Subscriber, 94965}                            |{63, Howard at 2nd, 37.786978, -122.398108, 19, San Francisco, 8/22/2013}                       |{913363, 489, 8/31/2015 20:06, Howard at 2nd, 63, 8/31/2015 20:14, San Francisco Caltrain 2 (330 Townsend), 69, 465, Subscriber, 94070}    |{69, San Francisco Caltrain 2 (330 Townsend), 37.7766, -122.39547, 23, San Francisco, 8/23/2013}|{913308, 185, 8/31/2015 19:30, San Francisco Caltrain 2 (330 Townsend), 69, 8/31/2015 19:33, 2nd at Townsend, 61, 541, Subscriber, 94158}  |\n",
            "|{69, San Francisco Caltrain 2 (330 Townsend), 37.7766, -122.39547, 23, San Francisco, 8/23/2013}|{913308, 185, 8/31/2015 19:30, San Francisco Caltrain 2 (330 Townsend), 69, 8/31/2015 19:33, 2nd at Townsend, 61, 541, Subscriber, 94158}  |{61, 2nd at Townsend, 37.780526, -122.390288, 27, San Francisco, 8/22/2013}                     |{913297, 501, 8/31/2015 19:21, 2nd at Townsend, 61, 8/31/2015 19:29, Spear at Folsom, 49, 607, Subscriber, 94107}                          |{49, Spear at Folsom, 37.790302, -122.390637, 19, San Francisco, 8/20/2013}                     |{913432, 703, 8/31/2015 21:16, Spear at Folsom, 49, 8/31/2015 21:28, San Francisco Caltrain 2 (330 Townsend), 69, 426, Subscriber, 95032}  |\n",
            "|{69, San Francisco Caltrain 2 (330 Townsend), 37.7766, -122.39547, 23, San Francisco, 8/23/2013}|{913308, 185, 8/31/2015 19:30, San Francisco Caltrain 2 (330 Townsend), 69, 8/31/2015 19:33, 2nd at Townsend, 61, 541, Subscriber, 94158}  |{61, 2nd at Townsend, 37.780526, -122.390288, 27, San Francisco, 8/22/2013}                     |{913309, 344, 8/31/2015 19:30, 2nd at Townsend, 61, 8/31/2015 19:36, Howard at 2nd, 63, 501, Subscriber, 94965}                            |{63, Howard at 2nd, 37.786978, -122.398108, 19, San Francisco, 8/22/2013}                       |{913363, 489, 8/31/2015 20:06, Howard at 2nd, 63, 8/31/2015 20:14, San Francisco Caltrain 2 (330 Townsend), 69, 465, Subscriber, 94070}    |\n",
            "|{64, 2nd at South Park, 37.782259, -122.392738, 15, San Francisco, 8/22/2013}                   |{913303, 296, 8/31/2015 19:27, 2nd at South Park, 64, 8/31/2015 19:32, Spear at Folsom, 49, 672, Subscriber, 94105}                        |{49, Spear at Folsom, 37.790302, -122.390637, 19, San Francisco, 8/20/2013}                     |{913432, 703, 8/31/2015 21:16, Spear at Folsom, 49, 8/31/2015 21:28, San Francisco Caltrain 2 (330 Townsend), 69, 426, Subscriber, 95032}  |{69, San Francisco Caltrain 2 (330 Townsend), 37.7766, -122.39547, 23, San Francisco, 8/23/2013}|{913324, 375, 8/31/2015 19:41, San Francisco Caltrain 2 (330 Townsend), 69, 8/31/2015 19:47, 2nd at South Park, 64, 558, Subscriber, 94105}|\n",
            "|{64, 2nd at South Park, 37.782259, -122.392738, 15, San Francisco, 8/22/2013}                   |{913303, 296, 8/31/2015 19:27, 2nd at South Park, 64, 8/31/2015 19:32, Spear at Folsom, 49, 672, Subscriber, 94105}                        |{49, Spear at Folsom, 37.790302, -122.390637, 19, San Francisco, 8/20/2013}                     |{913432, 703, 8/31/2015 21:16, Spear at Folsom, 49, 8/31/2015 21:28, San Francisco Caltrain 2 (330 Townsend), 69, 426, Subscriber, 95032}  |{69, San Francisco Caltrain 2 (330 Townsend), 37.7766, -122.39547, 23, San Francisco, 8/23/2013}|{913337, 384, 8/31/2015 19:47, San Francisco Caltrain 2 (330 Townsend), 69, 8/31/2015 19:54, 2nd at South Park, 64, 277, Subscriber, 94107}|\n",
            "|{61, 2nd at Townsend, 37.780526, -122.390288, 27, San Francisco, 8/22/2013}                     |{913297, 501, 8/31/2015 19:21, 2nd at Townsend, 61, 8/31/2015 19:29, Spear at Folsom, 49, 607, Subscriber, 94107}                          |{49, Spear at Folsom, 37.790302, -122.390637, 19, San Francisco, 8/20/2013}                     |{913432, 703, 8/31/2015 21:16, Spear at Folsom, 49, 8/31/2015 21:28, San Francisco Caltrain 2 (330 Townsend), 69, 426, Subscriber, 95032}  |{69, San Francisco Caltrain 2 (330 Townsend), 37.7766, -122.39547, 23, San Francisco, 8/23/2013}|{913308, 185, 8/31/2015 19:30, San Francisco Caltrain 2 (330 Townsend), 69, 8/31/2015 19:33, 2nd at Townsend, 61, 541, Subscriber, 94158}  |\n",
            "|{64, 2nd at South Park, 37.782259, -122.392738, 15, San Francisco, 8/22/2013}                   |{913294, 213, 8/31/2015 19:19, 2nd at South Park, 64, 8/31/2015 19:23, Howard at 2nd, 63, 193, Subscriber, 94107}                          |{63, Howard at 2nd, 37.786978, -122.398108, 19, San Francisco, 8/22/2013}                       |{913363, 489, 8/31/2015 20:06, Howard at 2nd, 63, 8/31/2015 20:14, San Francisco Caltrain 2 (330 Townsend), 69, 465, Subscriber, 94070}    |{69, San Francisco Caltrain 2 (330 Townsend), 37.7766, -122.39547, 23, San Francisco, 8/23/2013}|{913324, 375, 8/31/2015 19:41, San Francisco Caltrain 2 (330 Townsend), 69, 8/31/2015 19:47, 2nd at South Park, 64, 558, Subscriber, 94105}|\n",
            "|{64, 2nd at South Park, 37.782259, -122.392738, 15, San Francisco, 8/22/2013}                   |{913294, 213, 8/31/2015 19:19, 2nd at South Park, 64, 8/31/2015 19:23, Howard at 2nd, 63, 193, Subscriber, 94107}                          |{63, Howard at 2nd, 37.786978, -122.398108, 19, San Francisco, 8/22/2013}                       |{913363, 489, 8/31/2015 20:06, Howard at 2nd, 63, 8/31/2015 20:14, San Francisco Caltrain 2 (330 Townsend), 69, 465, Subscriber, 94070}    |{69, San Francisco Caltrain 2 (330 Townsend), 37.7766, -122.39547, 23, San Francisco, 8/23/2013}|{913337, 384, 8/31/2015 19:47, San Francisco Caltrain 2 (330 Townsend), 69, 8/31/2015 19:54, 2nd at South Park, 64, 277, Subscriber, 94107}|\n",
            "+------------------------------------------------------------------------------------------------+-------------------------------------------------------------------------------------------------------------------------------------------+------------------------------------------------------------------------------------------------+-------------------------------------------------------------------------------------------------------------------------------------------+------------------------------------------------------------------------------------------------+-------------------------------------------------------------------------------------------------------------------------------------------+\n",
            "\n"
          ]
        }
      ],
      "source": [
        "motifs = stationGraph.find(\"(a)-[ab]->(b); (b)-[bc]->(c); (c)-[ca]->(a)\")\n",
        "motifs.show(1000, False)"
      ]
    },
    {
      "cell_type": "markdown",
      "metadata": {
        "id": "aftHP-JrGgBy"
      },
      "source": [
        "12)\t Retourner tous les chemins qui passent par trois sommets et qui commencent à partir de 'Townsend at 7th'"
      ]
    },
    {
      "cell_type": "code",
      "execution_count": null,
      "metadata": {
        "colab": {
          "base_uri": "https://localhost:8080/"
        },
        "id": "kjQDB-JEGiJO",
        "outputId": "12e98f8d-3181-4c5c-9155-21a436471239"
      },
      "outputs": [
        {
          "output_type": "stream",
          "name": "stderr",
          "text": [
            "/usr/local/lib/python3.10/dist-packages/pyspark/sql/dataframe.py:148: UserWarning: DataFrame constructor is internal. Do not directly use it.\n",
            "  warnings.warn(\"DataFrame constructor is internal. Do not directly use it.\")\n"
          ]
        },
        {
          "output_type": "stream",
          "name": "stdout",
          "text": [
            "+---------------------------------------------------------------------------+------------------------------------------------------------------------------------------------+---------------------------------------------------------------------------------------------------+\n",
            "|a                                                                          |b                                                                                               |c                                                                                                  |\n",
            "+---------------------------------------------------------------------------+------------------------------------------------------------------------------------------------+---------------------------------------------------------------------------------------------------+\n",
            "|{65, Townsend at 7th, 37.771058, -122.402717, 15, San Francisco, 8/22/2013}|{49, Spear at Folsom, 37.790302, -122.390637, 19, San Francisco, 8/20/2013}                     |{61, 2nd at Townsend, 37.780526, -122.390288, 27, San Francisco, 8/22/2013}                        |\n",
            "|{65, Townsend at 7th, 37.771058, -122.402717, 15, San Francisco, 8/22/2013}|{49, Spear at Folsom, 37.790302, -122.390637, 19, San Francisco, 8/20/2013}                     |{42, Davis at Jackson, 37.79728, -122.398436, 15, San Francisco, 8/19/2013}                        |\n",
            "|{65, Townsend at 7th, 37.771058, -122.402717, 15, San Francisco, 8/22/2013}|{49, Spear at Folsom, 37.790302, -122.390637, 19, San Francisco, 8/20/2013}                     |{65, Townsend at 7th, 37.771058, -122.402717, 15, San Francisco, 8/22/2013}                        |\n",
            "|{65, Townsend at 7th, 37.771058, -122.402717, 15, San Francisco, 8/22/2013}|{49, Spear at Folsom, 37.790302, -122.390637, 19, San Francisco, 8/20/2013}                     |{61, 2nd at Townsend, 37.780526, -122.390288, 27, San Francisco, 8/22/2013}                        |\n",
            "|{65, Townsend at 7th, 37.771058, -122.402717, 15, San Francisco, 8/22/2013}|{49, Spear at Folsom, 37.790302, -122.390637, 19, San Francisco, 8/20/2013}                     |{69, San Francisco Caltrain 2 (330 Townsend), 37.7766, -122.39547, 23, San Francisco, 8/23/2013}   |\n",
            "|{65, Townsend at 7th, 37.771058, -122.402717, 15, San Francisco, 8/22/2013}|{50, Harry Bridges Plaza (Ferry Building), 37.795392, -122.394203, 23, San Francisco, 8/20/2013}|{61, 2nd at Townsend, 37.780526, -122.390288, 27, San Francisco, 8/22/2013}                        |\n",
            "|{65, Townsend at 7th, 37.771058, -122.402717, 15, San Francisco, 8/22/2013}|{50, Harry Bridges Plaza (Ferry Building), 37.795392, -122.394203, 23, San Francisco, 8/20/2013}|{54, Embarcadero at Bryant, 37.787152, -122.388013, 15, San Francisco, 8/20/2013}                  |\n",
            "|{65, Townsend at 7th, 37.771058, -122.402717, 15, San Francisco, 8/22/2013}|{50, Harry Bridges Plaza (Ferry Building), 37.795392, -122.394203, 23, San Francisco, 8/20/2013}|{70, San Francisco Caltrain (Townsend at 4th), 37.776617, -122.39526, 19, San Francisco, 8/23/2013}|\n",
            "+---------------------------------------------------------------------------+------------------------------------------------------------------------------------------------+---------------------------------------------------------------------------------------------------+\n",
            "\n"
          ]
        }
      ],
      "source": [
        "# Recherche de tous les chemins qui passent par trois sommets\n",
        "paths = stationGraph.find(\"(a)-[]->(b); (b)-[]->(c)\")\n",
        "\n",
        "# Filtrage des chemins qui commencent à partir de 'Townsend at 7th'\n",
        "filtered_paths = paths.filter(\"a.id = 'Townsend at 7th'\")\n",
        "\n",
        "# Affichage des résultats\n",
        "filtered_paths.show(truncate=False)"
      ]
    }
  ],
  "metadata": {
    "colab": {
      "provenance": []
    },
    "kernelspec": {
      "display_name": "Python 3",
      "name": "python3"
    },
    "language_info": {
      "codemirror_mode": {
        "name": "ipython",
        "version": 3
      },
      "file_extension": ".py",
      "mimetype": "text/x-python",
      "name": "python",
      "nbconvert_exporter": "python",
      "pygments_lexer": "ipython3",
      "version": "3.11.1"
    }
  },
  "nbformat": 4,
  "nbformat_minor": 0
}