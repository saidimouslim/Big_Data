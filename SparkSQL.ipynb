{
  "cells": [
    {
      "cell_type": "markdown",
      "metadata": {
        "id": "Hmnr-Tvu1bDw"
      },
      "source": [
        "# **TP 3 (Solution) : Spark SQL**"
      ]
    },
    {
      "cell_type": "markdown",
      "metadata": {
        "id": "DeXrbVTo3iH3"
      },
      "source": [
        "**Installation de pyspark :**"
      ]
    },
    {
      "cell_type": "code",
      "execution_count": null,
      "metadata": {
        "colab": {
          "base_uri": "https://localhost:8080/"
        },
        "id": "wf1xgUe72clM",
        "outputId": "70e1a488-b7d4-4921-f183-682e7e31d11b"
      },
      "outputs": [
        {
          "output_type": "stream",
          "name": "stdout",
          "text": [
            "Collecting pyspark\n",
            "  Downloading pyspark-3.5.1.tar.gz (317.0 MB)\n",
            "\u001b[2K     \u001b[90m━━━━━━━━━━━━━━━━━━━━━━━━━━━━━━━━━━━━━━━━\u001b[0m \u001b[32m317.0/317.0 MB\u001b[0m \u001b[31m3.3 MB/s\u001b[0m eta \u001b[36m0:00:00\u001b[0m\n",
            "\u001b[?25h  Preparing metadata (setup.py) ... \u001b[?25l\u001b[?25hdone\n",
            "Requirement already satisfied: py4j==0.10.9.7 in /usr/local/lib/python3.10/dist-packages (from pyspark) (0.10.9.7)\n",
            "Building wheels for collected packages: pyspark\n",
            "  Building wheel for pyspark (setup.py) ... \u001b[?25l\u001b[?25hdone\n",
            "  Created wheel for pyspark: filename=pyspark-3.5.1-py2.py3-none-any.whl size=317488491 sha256=c0ebec4f9deab4f737ba98c7387c58af448429f602da276a0cba30a55ed98c2f\n",
            "  Stored in directory: /root/.cache/pip/wheels/80/1d/60/2c256ed38dddce2fdd93be545214a63e02fbd8d74fb0b7f3a6\n",
            "Successfully built pyspark\n",
            "Installing collected packages: pyspark\n",
            "Successfully installed pyspark-3.5.1\n"
          ]
        }
      ],
      "source": [
        "! pip install pyspark"
      ]
    },
    {
      "cell_type": "markdown",
      "metadata": {
        "id": "sMpKkEp93vGU"
      },
      "source": [
        "1)\tCréer un Dataframe à partir du fichier ngram.csv :"
      ]
    },
    {
      "cell_type": "code",
      "execution_count": null,
      "metadata": {
        "colab": {
          "base_uri": "https://localhost:8080/"
        },
        "id": "HNu3sz993yZk",
        "outputId": "4aa93e78-05e5-4a78-8bd3-69412c71742b"
      },
      "outputs": [
        {
          "output_type": "stream",
          "name": "stderr",
          "text": [
            "/usr/local/lib/python3.10/dist-packages/pyspark/sql/context.py:113: FutureWarning: Deprecated in 3.0.0. Use SparkSession.builder.getOrCreate() instead.\n",
            "  warnings.warn(\n"
          ]
        }
      ],
      "source": [
        "from pyspark import SparkConf, SparkContext, SQLContext\n",
        "from pyspark.sql.functions import *\n",
        "from pyspark.sql import Row\n",
        "\n",
        "nomappli = \"essai1\"\n",
        "config = SparkConf().setAppName(nomappli)\n",
        "#sc = SparkContext(conf=config)\n",
        "sc = SparkContext.getOrCreate();\n",
        "sqlContext = SQLContext(sc)\n",
        "\n",
        "lines = sc.textFile(\"/content/drive/MyDrive/TP03_spark/ngram.csv\")\n",
        "parts = lines.map(lambda l: l.split(\"\\t\"))\n",
        "ngrams = parts.map(lambda x: Row(ngram=x[0], year=int(x[1]), ngramcount=int(x[2]), pages=int(x[3]), books=int(x[4])))\n",
        "schemaNGrams = sqlContext.createDataFrame(ngrams)"
      ]
    },
    {
      "cell_type": "markdown",
      "metadata": {
        "id": "6fR_EB1b4Br7"
      },
      "source": [
        "*2)\tEnregistrer le Dataframe créé en tant que table temporaire :*"
      ]
    },
    {
      "cell_type": "code",
      "execution_count": null,
      "metadata": {
        "colab": {
          "base_uri": "https://localhost:8080/"
        },
        "id": "ITU2ptSm4ItM",
        "outputId": "1cdc565b-7862-40a2-fe6b-9d803058f8e3"
      },
      "outputs": [
        {
          "output_type": "stream",
          "name": "stderr",
          "text": [
            "/usr/local/lib/python3.10/dist-packages/pyspark/sql/dataframe.py:329: FutureWarning: Deprecated in 2.0, use createOrReplaceTempView instead.\n",
            "  warnings.warn(\"Deprecated in 2.0, use createOrReplaceTempView instead.\", FutureWarning)\n"
          ]
        }
      ],
      "source": [
        "schemaNGrams.registerTempTable(\"ngrams\")"
      ]
    },
    {
      "cell_type": "code",
      "source": [
        "from google.colab import drive\n",
        "drive.mount('/content/drive')"
      ],
      "metadata": {
        "colab": {
          "base_uri": "https://localhost:8080/"
        },
        "id": "tYX9Xnh3KONU",
        "outputId": "dd4b90ab-0ae1-4b1b-cb94-b1ab3aed000f"
      },
      "execution_count": null,
      "outputs": [
        {
          "output_type": "stream",
          "name": "stdout",
          "text": [
            "Mounted at /content/drive\n"
          ]
        }
      ]
    },
    {
      "cell_type": "markdown",
      "metadata": {
        "id": "eaoYh7b-4OYS"
      },
      "source": [
        "3)\tRépondre aux requêtes suivantes en utilisant deux méthodes : (1) le langage SQL, et (2) les méthodes de l’API SparkSQL."
      ]
    },
    {
      "cell_type": "markdown",
      "metadata": {
        "id": "6XuZoRh44QUv"
      },
      "source": [
        "3.1) Retourner tous les bi-grammes dont le nombre est supérieur à cinq :\n",
        "\n",
        "---\n",
        "\n"
      ]
    },
    {
      "cell_type": "code",
      "execution_count": null,
      "metadata": {
        "id": "enE5-xm34epL",
        "colab": {
          "base_uri": "https://localhost:8080/"
        },
        "outputId": "c2a63644-bb41-43b7-e2fc-4f0389b5b675"
      },
      "outputs": [
        {
          "output_type": "stream",
          "name": "stdout",
          "text": [
            "+--------+\n",
            "|   ngram|\n",
            "+--------+\n",
            "|! $17.95|\n",
            "|! $17.95|\n",
            "|! $17.95|\n",
            "|! $17.95|\n",
            "|! $17.95|\n",
            "|    ! 09|\n",
            "|    ! 09|\n",
            "|    ! 09|\n",
            "|    ! 09|\n",
            "|    ! 09|\n",
            "|    ! 09|\n",
            "|    ! 09|\n",
            "|    ! 09|\n",
            "+--------+\n",
            "\n"
          ]
        }
      ],
      "source": [
        "#SQL :\n",
        "result = sqlContext.sql(\"SELECT ngram FROM ngrams WHERE ngramcount > 5\")\n",
        "result.show()"
      ]
    },
    {
      "cell_type": "code",
      "execution_count": null,
      "metadata": {
        "colab": {
          "base_uri": "https://localhost:8080/"
        },
        "id": "ggVm9bBG45mF",
        "outputId": "54e39e95-f892-4f37-ba77-8f33a63f4509"
      },
      "outputs": [
        {
          "output_type": "stream",
          "name": "stdout",
          "text": [
            "+--------+\n",
            "|   ngram|\n",
            "+--------+\n",
            "|! $17.95|\n",
            "|! $17.95|\n",
            "|! $17.95|\n",
            "|! $17.95|\n",
            "|! $17.95|\n",
            "|    ! 09|\n",
            "|    ! 09|\n",
            "|    ! 09|\n",
            "|    ! 09|\n",
            "|    ! 09|\n",
            "|    ! 09|\n",
            "|    ! 09|\n",
            "|    ! 09|\n",
            "+--------+\n",
            "\n"
          ]
        }
      ],
      "source": [
        "#Les méthodes de l’API SparkSQL :\n",
        "result = schemaNGrams.filter(schemaNGrams['ngramcount'] > 5).select('ngram')\n",
        "result.show()"
      ]
    },
    {
      "cell_type": "markdown",
      "metadata": {
        "id": "PlIJ0wgL4mFq"
      },
      "source": [
        "3.2) Retourner le nombre total de bi-grammes dans chaque année :"
      ]
    },
    {
      "cell_type": "code",
      "execution_count": null,
      "metadata": {
        "colab": {
          "base_uri": "https://localhost:8080/"
        },
        "id": "_02eot1B5Coe",
        "outputId": "8444679b-5aef-42dd-ac6f-d7e53cf414a5"
      },
      "outputs": [
        {
          "output_type": "stream",
          "name": "stdout",
          "text": [
            "+----+---+\n",
            "|year|cnt|\n",
            "+----+---+\n",
            "|1806|  1|\n",
            "|1840|  1|\n",
            "|1882|  1|\n",
            "|2007|  2|\n",
            "|1887|  1|\n",
            "|1991|  2|\n",
            "|1858|  1|\n",
            "|1833|  1|\n",
            "|1831|  1|\n",
            "|1987|  2|\n",
            "|1999|  2|\n",
            "|1997|  2|\n",
            "|1884|  1|\n",
            "|1845|  1|\n",
            "|1877|  1|\n",
            "|1829|  1|\n",
            "|1867|  1|\n",
            "|2006|  2|\n",
            "|1876|  1|\n",
            "|1879|  1|\n",
            "+----+---+\n",
            "only showing top 20 rows\n",
            "\n"
          ]
        }
      ],
      "source": [
        "#SQL :\n",
        "result = sqlContext.sql(\"SELECT year, COUNT(*) AS cnt FROM ngrams GROUP BY year\")\n",
        "result.show()\n"
      ]
    },
    {
      "cell_type": "code",
      "execution_count": null,
      "metadata": {
        "colab": {
          "base_uri": "https://localhost:8080/"
        },
        "id": "nb4fW0fX5GkL",
        "outputId": "ffeede11-a315-40a1-b4ab-63dcc889907c"
      },
      "outputs": [
        {
          "output_type": "stream",
          "name": "stdout",
          "text": [
            "+----+-----+\n",
            "|year|count|\n",
            "+----+-----+\n",
            "|1806|    1|\n",
            "|1840|    1|\n",
            "|1882|    1|\n",
            "|2007|    2|\n",
            "|1887|    1|\n",
            "|1991|    2|\n",
            "|1858|    1|\n",
            "|1833|    1|\n",
            "|1831|    1|\n",
            "|1987|    2|\n",
            "|1999|    2|\n",
            "|1997|    2|\n",
            "|1884|    1|\n",
            "|1845|    1|\n",
            "|1877|    1|\n",
            "|1829|    1|\n",
            "|1867|    1|\n",
            "|2006|    2|\n",
            "|1876|    1|\n",
            "|1879|    1|\n",
            "+----+-----+\n",
            "only showing top 20 rows\n",
            "\n"
          ]
        }
      ],
      "source": [
        "#Les méthodes de l’API SparkSQL :\n",
        "result = schemaNGrams.groupBy(\"year\").count()\n",
        "result.show()"
      ]
    },
    {
      "cell_type": "markdown",
      "metadata": {
        "id": "2wkysNgr5MqT"
      },
      "source": [
        "3.3) Retourner les bi-grammes qui ont le plus grand nombre de count dans chaque année :"
      ]
    },
    {
      "cell_type": "code",
      "execution_count": null,
      "metadata": {
        "colab": {
          "base_uri": "https://localhost:8080/"
        },
        "id": "b-elfvbA5OnE",
        "outputId": "9833d5cf-347c-497c-bfee-26bb2dbeaae3"
      },
      "outputs": [
        {
          "output_type": "stream",
          "name": "stdout",
          "text": [
            "+--------+----+--------+\n",
            "|   ngram|year|maxCount|\n",
            "+--------+----+--------+\n",
            "|    ! 09|1880|       2|\n",
            "|! $17.95|2008|       2|\n",
            "|    ! 09|1845|       1|\n",
            "|! $17.95|1995|       1|\n",
            "|! $17.95|2004|      14|\n",
            "|    ! 09|1780|       1|\n",
            "|    ! 09|1833|       1|\n",
            "|! $17.95|2007|       2|\n",
            "|    ! 09|1872|       1|\n",
            "|    ! 09|1861|       1|\n",
            "|    ! 09|1806|       1|\n",
            "|    ! 09|1882|       2|\n",
            "|! $17.95|2001|       5|\n",
            "|    ! 09|1881|       3|\n",
            "|    ! 09|1884|       5|\n",
            "|    ! 09|1823|       1|\n",
            "|    ! 09|1848|       1|\n",
            "|    ! 09|1887|       1|\n",
            "|    ! 09|1803|       1|\n",
            "|    ! 09|1877|       2|\n",
            "+--------+----+--------+\n",
            "only showing top 20 rows\n",
            "\n"
          ]
        }
      ],
      "source": [
        "#SQL :\n",
        "result = sqlContext.sql(\"SELECT ngram, year, MAX(ngramcount) AS maxCount FROM ngrams GROUP BY ngram, year\")\n",
        "result.show()"
      ]
    },
    {
      "cell_type": "code",
      "execution_count": null,
      "metadata": {
        "colab": {
          "base_uri": "https://localhost:8080/"
        },
        "id": "MAncmEc65T7q",
        "outputId": "d6351796-73e1-4051-8b9a-d69314f1b9a7"
      },
      "outputs": [
        {
          "output_type": "stream",
          "name": "stdout",
          "text": [
            "+--------+----+---------------+\n",
            "|   ngram|Year|max(ngramcount)|\n",
            "+--------+----+---------------+\n",
            "|    ! 09|1880|              2|\n",
            "|! $17.95|2008|              2|\n",
            "|    ! 09|1845|              1|\n",
            "|! $17.95|1995|              1|\n",
            "|! $17.95|2004|             14|\n",
            "|    ! 09|1780|              1|\n",
            "|    ! 09|1833|              1|\n",
            "|! $17.95|2007|              2|\n",
            "|    ! 09|1872|              1|\n",
            "|    ! 09|1861|              1|\n",
            "|    ! 09|1806|              1|\n",
            "|    ! 09|1882|              2|\n",
            "|! $17.95|2001|              5|\n",
            "|    ! 09|1881|              3|\n",
            "|    ! 09|1884|              5|\n",
            "|    ! 09|1823|              1|\n",
            "|    ! 09|1848|              1|\n",
            "|    ! 09|1887|              1|\n",
            "|    ! 09|1803|              1|\n",
            "|    ! 09|1877|              2|\n",
            "+--------+----+---------------+\n",
            "only showing top 20 rows\n",
            "\n"
          ]
        }
      ],
      "source": [
        "#Les méthodes de l’API SparkSQL :\n",
        "result = schemaNGrams.groupBy(\"ngram\", \"Year\").max(\"ngramcount\")\n",
        "result.show()"
      ]
    },
    {
      "cell_type": "markdown",
      "metadata": {
        "id": "DJ-HV18R5bxd"
      },
      "source": [
        "3.4) Retourner tous les bi-grammes qui sont apparus dans 80 années différentes :"
      ]
    },
    {
      "cell_type": "code",
      "execution_count": null,
      "metadata": {
        "colab": {
          "base_uri": "https://localhost:8080/"
        },
        "id": "C9gp0bP15doe",
        "outputId": "8e8b240b-bede-41a7-b3bf-fe763eb311ba"
      },
      "outputs": [
        {
          "output_type": "stream",
          "name": "stdout",
          "text": [
            "+--------+\n",
            "|   ngram|\n",
            "+--------+\n",
            "|! $17.95|\n",
            "+--------+\n",
            "\n"
          ]
        }
      ],
      "source": [
        "#SQL :\n",
        "result = sqlContext.sql(\"SELECT ngram FROM ngrams GROUP BY ngram HAVING COUNT(DISTINCT Year) = 20\").show()"
      ]
    },
    {
      "cell_type": "code",
      "execution_count": null,
      "metadata": {
        "colab": {
          "base_uri": "https://localhost:8080/"
        },
        "id": "QsyJFm2650Jm",
        "outputId": "16e5d400-9c32-4901-de63-9a31b3198a4a"
      },
      "outputs": [
        {
          "output_type": "stream",
          "name": "stdout",
          "text": [
            "+--------+\n",
            "|   ngram|\n",
            "+--------+\n",
            "|! $17.95|\n",
            "+--------+\n",
            "\n"
          ]
        }
      ],
      "source": [
        "#Les méthodes de l’API SparkSQL :\n",
        "result = schemaNGrams.groupBy(\"ngram\").agg(\n",
        "    countDistinct(\"Year\").alias(\"NumYears\")\n",
        ").filter(\"NumYears = 20\").select(\"ngram\").show()"
      ]
    },
    {
      "cell_type": "markdown",
      "metadata": {
        "id": "NYIWXGhY58TB"
      },
      "source": [
        "3.5) Retourner tous les bi-grammes qui contiennent le caractère ‘!’ dans la première partie et le caractère ‘9’ dans la deuxième partie (les deux parties sont séparées par un espace) :"
      ]
    },
    {
      "cell_type": "code",
      "execution_count": null,
      "metadata": {
        "colab": {
          "base_uri": "https://localhost:8080/"
        },
        "id": "tc5yEQi56AL0",
        "outputId": "b402babe-057b-418d-b36c-2591b7735f87"
      },
      "outputs": [
        {
          "output_type": "stream",
          "name": "stdout",
          "text": [
            "+--------+\n",
            "|   ngram|\n",
            "+--------+\n",
            "|    ! 09|\n",
            "|! $17.95|\n",
            "+--------+\n",
            "\n"
          ]
        }
      ],
      "source": [
        "#SQL :\n",
        "sqlContext.sql(\"SELECT distinct ngram FROM ngrams WHERE ngram LIKE '%!% %' AND ngram LIKE '% %9%'\").show()"
      ]
    },
    {
      "cell_type": "code",
      "execution_count": null,
      "metadata": {
        "colab": {
          "base_uri": "https://localhost:8080/"
        },
        "id": "n9_X4llN6G8W",
        "outputId": "58981424-564f-4862-b877-b1f75f73467c"
      },
      "outputs": [
        {
          "output_type": "stream",
          "name": "stdout",
          "text": [
            "+--------+\n",
            "|   ngram|\n",
            "+--------+\n",
            "|    ! 09|\n",
            "|! $17.95|\n",
            "+--------+\n",
            "\n"
          ]
        }
      ],
      "source": [
        "#Les méthodes de l’API SparkSQL :\n",
        "schemaNGrams.filter((col(\"ngram\").like(\"%!% %\")) & (col(\"ngram\").like(\"% %9%\"))).select(\"ngram\").distinct().show()"
      ]
    },
    {
      "cell_type": "markdown",
      "metadata": {
        "id": "kGL0uqVX6LlY"
      },
      "source": [
        "3.6) Retourner les bi-grammes qui sont apparus dans toutes les années présentes dans les données :"
      ]
    },
    {
      "cell_type": "code",
      "execution_count": null,
      "metadata": {
        "colab": {
          "base_uri": "https://localhost:8080/"
        },
        "id": "budyA5X76Ppp",
        "outputId": "827942e1-816e-40f4-b49f-c1a46383842b"
      },
      "outputs": [
        {
          "output_type": "stream",
          "name": "stdout",
          "text": [
            "+-----+\n",
            "|ngram|\n",
            "+-----+\n",
            "| ! 09|\n",
            "+-----+\n",
            "\n"
          ]
        }
      ],
      "source": [
        "#SQL :\n",
        "sqlContext.sql(\"SELECT ngram FROM ngrams GROUP BY ngram HAVING COUNT(DISTINCT Year) = (SELECT COUNT(DISTINCT Year) FROM ngrams)\").show()"
      ]
    },
    {
      "cell_type": "code",
      "execution_count": null,
      "metadata": {
        "colab": {
          "base_uri": "https://localhost:8080/"
        },
        "id": "bohVlwgD6UII",
        "outputId": "ab68aff3-8c58-48e6-8309-84ac9ee98bc2"
      },
      "outputs": [
        {
          "output_type": "stream",
          "name": "stdout",
          "text": [
            "+-----+\n",
            "|ngram|\n",
            "+-----+\n",
            "| ! 09|\n",
            "+-----+\n",
            "\n"
          ]
        }
      ],
      "source": [
        "#Les méthodes de l’API SparkSQL :\n",
        "distinct_years = schemaNGrams.select(\"Year\").distinct().count()\n",
        "\n",
        "result = schemaNGrams.groupBy(\"ngram\").agg(countDistinct(\"Year\").alias(\"distinct_years\")) \\\n",
        "    .filter(\"distinct_years = {}\".format(distinct_years)) \\\n",
        "    .select(\"ngram\").show()"
      ]
    },
    {
      "cell_type": "markdown",
      "metadata": {
        "id": "Oafrt5h96a-5"
      },
      "source": [
        "3.7) Retourner le nombre total de pages et de livres dans lesquels chaque bi-gramme apparaît pour chaque année disponible, trié par ordre alphabétique :"
      ]
    },
    {
      "cell_type": "code",
      "execution_count": null,
      "metadata": {
        "colab": {
          "base_uri": "https://localhost:8080/"
        },
        "id": "P27vIGVp6cff",
        "outputId": "f406bbdb-cb41-47fe-ff99-f3e0b785f080"
      },
      "outputs": [
        {
          "output_type": "stream",
          "name": "stdout",
          "text": [
            "+----+--------+----------+----------+\n",
            "|Year|   ngram|TotalPages|TotalBooks|\n",
            "+----+--------+----------+----------+\n",
            "|1998|! $17.95|         3|         3|\n",
            "|1992|! $17.95|         5|         5|\n",
            "|1995|! $17.95|         1|         1|\n",
            "|1997|! $17.95|         5|         5|\n",
            "|1993|! $17.95|         2|         2|\n",
            "|1987|! $17.95|         1|         1|\n",
            "|1985|! $17.95|         1|         1|\n",
            "|1991|! $17.95|         1|         1|\n",
            "|1990|! $17.95|         1|         1|\n",
            "|2007|! $17.95|         2|         2|\n",
            "|2004|! $17.95|        14|        14|\n",
            "|1996|! $17.95|         2|         2|\n",
            "|2005|! $17.95|        13|        13|\n",
            "|2001|! $17.95|         4|         4|\n",
            "|2003|! $17.95|         2|         2|\n",
            "|1999|! $17.95|        10|        10|\n",
            "|2006|! $17.95|         5|         5|\n",
            "|2008|! $17.95|         2|         2|\n",
            "|2000|! $17.95|         9|         9|\n",
            "|2002|! $17.95|         5|         5|\n",
            "+----+--------+----------+----------+\n",
            "only showing top 20 rows\n",
            "\n"
          ]
        }
      ],
      "source": [
        "#SQL :\n",
        "sqlContext.sql(\"SELECT Year, ngram, SUM(Pages) AS TotalPages, SUM(Books) AS TotalBooks FROM ngrams GROUP BY Year, ngram ORDER BY ngram ASC\").show()"
      ]
    },
    {
      "cell_type": "code",
      "execution_count": null,
      "metadata": {
        "colab": {
          "base_uri": "https://localhost:8080/"
        },
        "id": "kSDU2rzA6jVQ",
        "outputId": "d25f355a-2b20-4c76-ac0f-2ac39c77829d"
      },
      "outputs": [
        {
          "output_type": "stream",
          "name": "stdout",
          "text": [
            "+----+--------+----------+----------+\n",
            "|Year|   ngram|TotalPages|TotalBooks|\n",
            "+----+--------+----------+----------+\n",
            "|1998|! $17.95|         3|         3|\n",
            "|1992|! $17.95|         5|         5|\n",
            "|1995|! $17.95|         1|         1|\n",
            "|1997|! $17.95|         5|         5|\n",
            "|1993|! $17.95|         2|         2|\n",
            "|1987|! $17.95|         1|         1|\n",
            "|1985|! $17.95|         1|         1|\n",
            "|1991|! $17.95|         1|         1|\n",
            "|1990|! $17.95|         1|         1|\n",
            "|2007|! $17.95|         2|         2|\n",
            "|2004|! $17.95|        14|        14|\n",
            "|1996|! $17.95|         2|         2|\n",
            "|2005|! $17.95|        13|        13|\n",
            "|2001|! $17.95|         4|         4|\n",
            "|2003|! $17.95|         2|         2|\n",
            "|1999|! $17.95|        10|        10|\n",
            "|2006|! $17.95|         5|         5|\n",
            "|2008|! $17.95|         2|         2|\n",
            "|2000|! $17.95|         9|         9|\n",
            "|2002|! $17.95|         5|         5|\n",
            "+----+--------+----------+----------+\n",
            "only showing top 20 rows\n",
            "\n"
          ]
        }
      ],
      "source": [
        "#Les méthodes de l’API SparkSQL :\n",
        "result = (schemaNGrams\n",
        "    .groupBy(\"Year\", \"ngram\")\n",
        "    .agg(sum(\"Pages\").alias(\"TotalPages\"), sum(\"Books\").alias(\"TotalBooks\"))\n",
        "    .orderBy(\"ngram\")\n",
        ")\n",
        "result.show()"
      ]
    },
    {
      "cell_type": "markdown",
      "metadata": {
        "id": "XbjcMXWu6nq1"
      },
      "source": [
        "3.8) Retourner le nombre total de bi-grammes différents dans chaque année, triés par ordre décroissant de l'année :"
      ]
    },
    {
      "cell_type": "code",
      "execution_count": null,
      "metadata": {
        "colab": {
          "base_uri": "https://localhost:8080/"
        },
        "id": "Z-T7EOkl6rR5",
        "outputId": "b8ef0b50-c4d3-44a8-ab32-118379a4e6b2"
      },
      "outputs": [
        {
          "output_type": "stream",
          "name": "stdout",
          "text": [
            "+----+----------------+\n",
            "|Year|distinct_bigrams|\n",
            "+----+----------------+\n",
            "|2008|               2|\n",
            "|2007|               2|\n",
            "|2006|               2|\n",
            "|2005|               2|\n",
            "|2004|               2|\n",
            "|2003|               2|\n",
            "|2002|               2|\n",
            "|2001|               2|\n",
            "|2000|               2|\n",
            "|1999|               2|\n",
            "|1998|               2|\n",
            "|1997|               2|\n",
            "|1996|               2|\n",
            "|1995|               2|\n",
            "|1993|               2|\n",
            "|1992|               2|\n",
            "|1991|               2|\n",
            "|1990|               2|\n",
            "|1987|               2|\n",
            "|1985|               2|\n",
            "+----+----------------+\n",
            "only showing top 20 rows\n",
            "\n"
          ]
        }
      ],
      "source": [
        "#SQL :\n",
        "result = sqlContext.sql(\"SELECT Year, COUNT(DISTINCT ngram) AS distinct_bigrams FROM ngrams GROUP BY Year ORDER BY Year DESC\")\n",
        "result.show()"
      ]
    },
    {
      "cell_type": "code",
      "execution_count": null,
      "metadata": {
        "colab": {
          "base_uri": "https://localhost:8080/"
        },
        "id": "GnGnzoMy6vZK",
        "outputId": "10366397-25d3-478e-bf48-43455d4a0ee9"
      },
      "outputs": [
        {
          "output_type": "stream",
          "name": "stdout",
          "text": [
            "+----+---------------------+\n",
            "|Year|count(DISTINCT ngram)|\n",
            "+----+---------------------+\n",
            "|2008|                    2|\n",
            "|2007|                    2|\n",
            "|2006|                    2|\n",
            "|2005|                    2|\n",
            "|2004|                    2|\n",
            "|2003|                    2|\n",
            "|2002|                    2|\n",
            "|2001|                    2|\n",
            "|2000|                    2|\n",
            "|1999|                    2|\n",
            "|1998|                    2|\n",
            "|1997|                    2|\n",
            "|1996|                    2|\n",
            "|1995|                    2|\n",
            "|1993|                    2|\n",
            "|1992|                    2|\n",
            "|1991|                    2|\n",
            "|1990|                    2|\n",
            "|1987|                    2|\n",
            "|1985|                    2|\n",
            "+----+---------------------+\n",
            "only showing top 20 rows\n",
            "\n"
          ]
        }
      ],
      "source": [
        "#Les méthodes de l’API SparkSQL :\n",
        "result = schemaNGrams.groupBy(\"Year\").agg(countDistinct(\"ngram\")) .orderBy(\"Year\", ascending=False)\n",
        "result.show()"
      ]
    }
  ],
  "metadata": {
    "colab": {
      "provenance": []
    },
    "kernelspec": {
      "display_name": "Python 3",
      "name": "python3"
    },
    "language_info": {
      "name": "python"
    }
  },
  "nbformat": 4,
  "nbformat_minor": 0
}